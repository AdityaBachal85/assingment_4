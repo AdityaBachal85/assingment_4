{
 "cells": [
  {
   "cell_type": "code",
   "execution_count": 3,
   "id": "9c190f24-4398-42a4-b33f-b934efea1400",
   "metadata": {},
   "outputs": [],
   "source": [
    "import numpy as np\n",
    "list_ = [ '1' , '2' , '3' , '4' , '5' ]\n",
    "array_list = np.array(object = list_)"
   ]
  },
  {
   "cell_type": "markdown",
   "id": "46945f37-0a91-4dc0-90e9-7a933b7117db",
   "metadata": {},
   "source": [
    "Q1. Is there any difference in the data type of variables list_ and array_list? If there is then write a code\n",
    "to print the data types of both the variables."
   ]
  },
  {
   "cell_type": "code",
   "execution_count": 5,
   "id": "927a45a0-efa0-4703-a79e-4e99b7a8d0b6",
   "metadata": {},
   "outputs": [
    {
     "name": "stdout",
     "output_type": "stream",
     "text": [
      "<class 'list'>\n",
      "<class 'numpy.ndarray'>\n"
     ]
    }
   ],
   "source": [
    "print(type(list_))\n",
    "print(type(array_list))"
   ]
  },
  {
   "cell_type": "markdown",
   "id": "d0e1704d-125a-4f5d-ad99-478c6dec322c",
   "metadata": {},
   "source": [
    "Q2. Write a code to print the data type of each and every element of both the variables list_ and\n",
    "arra_list."
   ]
  },
  {
   "cell_type": "code",
   "execution_count": 8,
   "id": "1e6603f0-45c3-4c26-b1f9-c584195c8c7e",
   "metadata": {},
   "outputs": [
    {
     "name": "stdout",
     "output_type": "stream",
     "text": [
      "Data types in list_:\n",
      "<class 'str'>\n",
      "<class 'str'>\n",
      "<class 'str'>\n",
      "<class 'str'>\n",
      "<class 'str'>\n",
      "\n",
      "Data types in array_list:\n",
      "<class 'numpy.str_'>\n",
      "<class 'numpy.str_'>\n",
      "<class 'numpy.str_'>\n",
      "<class 'numpy.str_'>\n",
      "<class 'numpy.str_'>\n"
     ]
    }
   ],
   "source": [
    "# Printing data types of elements in list_\n",
    "print(\"Data types in list_:\")\n",
    "for i in list_:\n",
    "    print(type(i))\n",
    "\n",
    "# Printing data types of elements in array_list\n",
    "print(\"\\nData types in array_list:\")\n",
    "for i in array_list:\n",
    "    print(type(i))"
   ]
  },
  {
   "cell_type": "markdown",
   "id": "f407fe74-8ffe-4892-aaf5-92796f1d3f39",
   "metadata": {},
   "source": [
    "Q3. Considering the following changes in the variable, array_list:\n",
    "array_list = np.array(object = list_, dtype = int)\n",
    "Will there be any difference in the data type of the elements present in both the variables, list_ and\n",
    "arra_list? If so then print the data types of each and every element present in both the variables, list_\n",
    "and arra_list."
   ]
  },
  {
   "cell_type": "code",
   "execution_count": 10,
   "id": "a7208000-d8fd-4667-b4ee-2c84041544cf",
   "metadata": {},
   "outputs": [
    {
     "name": "stdout",
     "output_type": "stream",
     "text": [
      "Data types in num_list:\n",
      "<class 'int'>\n",
      "<class 'int'>\n",
      "<class 'int'>\n",
      "<class 'int'>\n",
      "<class 'int'>\n",
      "<class 'int'>\n",
      "\n",
      "Data types in num_array:\n",
      "<class 'numpy.int64'>\n",
      "<class 'numpy.int64'>\n",
      "<class 'numpy.int64'>\n",
      "<class 'numpy.int64'>\n",
      "<class 'numpy.int64'>\n",
      "<class 'numpy.int64'>\n"
     ]
    }
   ],
   "source": [
    "\n",
    "num_list = [[1, 2, 3], [4, 5, 6]]\n",
    "num_array = np.array(object=num_list)\n",
    "\n",
    "# Printing data types of elements in num_list\n",
    "print(\"Data types in num_list:\")\n",
    "for sublist in num_list:\n",
    "    for elem in sublist:\n",
    "        print(type(elem))\n",
    "\n",
    "# Printing data types of elements in num_array\n",
    "print(\"\\nData types in num_array:\")\n",
    "for sublist in num_array:\n",
    "    for elem in sublist:\n",
    "        print(type(elem))\n"
   ]
  },
  {
   "cell_type": "markdown",
   "id": "a1d8788a-f649-430a-9c37-f29a4793662f",
   "metadata": {},
   "source": [
    "Q4. Write a code to find the following characteristics of variable, num_array:\n",
    "(i) shape\n",
    "(ii) size"
   ]
  },
  {
   "cell_type": "code",
   "execution_count": 11,
   "id": "d8e7b275-b97e-4012-aa40-6b617a01aefe",
   "metadata": {},
   "outputs": [
    {
     "name": "stdout",
     "output_type": "stream",
     "text": [
      "Shape of num_array: (2, 3)\n",
      "Size of num_array: 6\n"
     ]
    }
   ],
   "source": [
    "import numpy as np\n",
    "\n",
    "num_list = [[1, 2, 3], [4, 5, 6]]\n",
    "num_array = np.array(object=num_list)\n",
    "\n",
    "# Finding the shape of num_array\n",
    "shape = num_array.shape\n",
    "print(\"Shape of num_array:\", shape)\n",
    "\n",
    "# Finding the size of num_array\n",
    "size = num_array.size\n",
    "print(\"Size of num_array:\", size)\n"
   ]
  },
  {
   "cell_type": "markdown",
   "id": "1fa74f7b-68d1-483e-a251-f6d3d561fd24",
   "metadata": {},
   "source": [
    "Q5. Write a code to create numpy array of 3*3 matrix containing zeros only, using a numpy array\n",
    "creation function.\n",
    "[Hint: The size of the array will be 9 and the shape will be (3,3).]"
   ]
  },
  {
   "cell_type": "code",
   "execution_count": 15,
   "id": "c84c4056-5caf-4c9a-95fb-0c045f34427d",
   "metadata": {},
   "outputs": [
    {
     "name": "stdout",
     "output_type": "stream",
     "text": [
      "Array of zeros:\n",
      "[[0. 0. 0.]\n",
      " [0. 0. 0.]\n",
      " [0. 0. 0.]]\n"
     ]
    }
   ],
   "source": [
    "# Creating a 3x3 array filled with zeros\n",
    "zeros_array = np.zeros((3, 3))\n",
    "\n",
    "print(\"Array of zeros:\")\n",
    "print(zeros_array)\n",
    "\n"
   ]
  },
  {
   "cell_type": "markdown",
   "id": "5f7e44df-7e6d-4ede-8571-5a4dc7e9a378",
   "metadata": {},
   "source": [
    "Q6. Create an identity matrix of shape (5,5) using numpy functions?\n",
    "[Hint: An identity matrix is a matrix containing 1 diagonally and other elements will be 0.]"
   ]
  },
  {
   "cell_type": "code",
   "execution_count": 14,
   "id": "3944d450-7fb1-49f6-8f6a-60800cf85e98",
   "metadata": {},
   "outputs": [
    {
     "name": "stdout",
     "output_type": "stream",
     "text": [
      "5x5 Identity Matrix:\n",
      "[[1. 0. 0. 0. 0.]\n",
      " [0. 1. 0. 0. 0.]\n",
      " [0. 0. 1. 0. 0.]\n",
      " [0. 0. 0. 1. 0.]\n",
      " [0. 0. 0. 0. 1.]]\n"
     ]
    }
   ],
   "source": [
    "\n",
    "\n",
    "# Creating a 5x5 identity matrix\n",
    "identity_matrix = np.eye(5)\n",
    "\n",
    "print(\"5x5 Identity Matrix:\")\n",
    "print(identity_matrix)\n"
   ]
  },
  {
   "cell_type": "code",
   "execution_count": null,
   "id": "13043b8b-2135-43b0-a3f9-5c1a3da19340",
   "metadata": {},
   "outputs": [],
   "source": []
  }
 ],
 "metadata": {
  "kernelspec": {
   "display_name": "Python 3 (ipykernel)",
   "language": "python",
   "name": "python3"
  },
  "language_info": {
   "codemirror_mode": {
    "name": "ipython",
    "version": 3
   },
   "file_extension": ".py",
   "mimetype": "text/x-python",
   "name": "python",
   "nbconvert_exporter": "python",
   "pygments_lexer": "ipython3",
   "version": "3.10.8"
  }
 },
 "nbformat": 4,
 "nbformat_minor": 5
}
