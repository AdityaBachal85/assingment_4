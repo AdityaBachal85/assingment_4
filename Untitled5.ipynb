{
 "cells": [
  {
   "cell_type": "markdown",
   "id": "af5db2e0-0ddd-44c3-944e-65afc4c9c3ae",
   "metadata": {},
   "source": [
    "what is multithreading in python? why is it used? Name the module used to handle threads in python"
   ]
  },
  {
   "cell_type": "raw",
   "id": "38b1dda5-5de9-4f57-9ce4-df8d9d371866",
   "metadata": {},
   "source": [
    "Multithreading in Python refers to the ability of a program to execute multiple threads (small units of a process) concurrently. Each thread represents a separate flow of execution within the same program. Python's Global Interpreter Lock (GIL) allows only one thread to execute Python bytecode at a time, so multithreading is more useful for I/O-bound tasks rather than CPU-bound ones.\n",
    "\n",
    "Multithreading is used to enhance performance by allowing concurrent execution of multiple tasks. This is particularly beneficial when dealing with I/O-bound operations like network requests, file handling, or accessing a database, as threads can perform these tasks while waiting for responses without blocking other parts of the program.\n",
    "\n",
    "In Python, the `threading` module is used to handle threads. It provides an easy-to-use and high-level interface for creating and managing threads within a Python program. The `threading` module allows you to create, start, pause, resume, and terminate threads, as well as synchronize their execution using locks, events, semaphores, and conditions."
   ]
  },
  {
   "cell_type": "markdown",
   "id": "a2c992de-c5b1-498d-9ee5-864503e38306",
   "metadata": {},
   "source": [
    "why threading module used? write the use of the following functions\n",
    " activeCount\n",
    " currentThread\n",
    " enumerate"
   ]
  },
  {
   "cell_type": "raw",
   "id": "e27b105d-a463-421c-b5fa-d6df5f975568",
   "metadata": {},
   "source": [
    "The threading module in Python is used for creating, controlling, and managing threads in a program. It provides an easy-to-use interface for working with threads."
   ]
  },
  {
   "cell_type": "code",
   "execution_count": 12,
   "id": "22c488a2-a702-4778-bde8-f54316136a04",
   "metadata": {},
   "outputs": [
    {
     "name": "stdout",
     "output_type": "stream",
     "text": [
      "Doing something...\n",
      "Doing something...\n",
      "Doing something...\n",
      "Doing something...\n",
      "Doing something...\n",
      "active count 8\n"
     ]
    }
   ],
   "source": [
    "import threading\n",
    "\n",
    "# Create and start some threads\n",
    "def my_task():\n",
    "    print(\"Doing something...\")\n",
    "\n",
    "threads = []\n",
    "for i in range(5):\n",
    "    thread = threading.Thread(target=my_task)\n",
    "    threads.append(thread)\n",
    "    thread.start()\n",
    "\n",
    "print(\"active count\", threading.active_count()) # Get the count of active threads\n"
   ]
  },
  {
   "cell_type": "code",
   "execution_count": 14,
   "id": "fbb706c1-f7ff-41fb-986e-5df426dbb3f8",
   "metadata": {},
   "outputs": [
    {
     "name": "stdout",
     "output_type": "stream",
     "text": [
      "Current thread name: Thread-48 (my_function)\n"
     ]
    }
   ],
   "source": [
    "\n",
    "\n",
    "def my_function():\n",
    "    current_thread = threading.current_thread()\n",
    "    print(\"Current thread name:\", current_thread.name)\n",
    "\n",
    "thread = threading.Thread(target=my_function)\n",
    "thread.start()\n"
   ]
  },
  {
   "cell_type": "code",
   "execution_count": 1,
   "id": "b9413f2e-2286-4999-9d23-6352e3aa3873",
   "metadata": {},
   "outputs": [
    {
     "name": "stdout",
     "output_type": "stream",
     "text": [
      "Task running...\n",
      "Task running...\n",
      "Task running...\n",
      "All threads: [<_MainThread(MainThread, started 140637660653376)>, <Thread(IOPub, started daemon 140637590124096)>, <Heartbeat(Heartbeat, started daemon 140637581731392)>, <Thread(Thread-3 (_watch_pipe_fd), started daemon 140637353535040)>, <Thread(Thread-4 (_watch_pipe_fd), started daemon 140637345142336)>, <ControlThread(Control, started daemon 140637336749632)>, <HistorySavingThread(IPythonHistorySavingThread, started 140637328356928)>, <ParentPollerUnix(Thread-2, started daemon 140637319964224)>]\n"
     ]
    }
   ],
   "source": [
    "import threading\n",
    "\n",
    "def my_task():\n",
    "    print(\"Task running...\")\n",
    "\n",
    "threads = []\n",
    "for i in range(3):\n",
    "    thread = threading.Thread(target=my_task)\n",
    "    threads.append(thread)\n",
    "    thread.start()\n",
    "\n",
    "# Enumerate and print all active threads\n",
    "all_threads = threading.enumerate()\n",
    "print(\"All threads:\", all_threads)\n"
   ]
  },
  {
   "cell_type": "markdown",
   "id": "9860a069-e289-4ff7-925a-98450c6e5465",
   "metadata": {},
   "source": [
    "3. Explain the following functions\n",
    " run()\n",
    " start()\n",
    " join()\n",
    " isAlive()"
   ]
  },
  {
   "cell_type": "code",
   "execution_count": 4,
   "id": "6a2f8f9a-749f-4024-86fc-768a88ee00f4",
   "metadata": {},
   "outputs": [
    {
     "name": "stdout",
     "output_type": "stream",
     "text": [
      "This is executed when the thread starts\n"
     ]
    }
   ],
   "source": [
    "import threading\n",
    "\n",
    "class MyThread(threading.Thread):\n",
    "    def run(self):\n",
    "        print(\"This is executed when the thread starts\")\n",
    "\n",
    "# Create and start the custom thread\n",
    "my_thread = MyThread()\n",
    "my_thread.start()\n"
   ]
  },
  {
   "cell_type": "code",
   "execution_count": 5,
   "id": "a8573622-85c2-4894-b72a-0828c19581af",
   "metadata": {},
   "outputs": [
    {
     "name": "stdout",
     "output_type": "stream",
     "text": [
      "Thread function\n"
     ]
    }
   ],
   "source": [
    "import threading\n",
    "\n",
    "def my_function():\n",
    "    print(\"Thread function\")\n",
    "\n",
    "# Create and start a thread using the target function\n",
    "my_thread = threading.Thread(target=my_function)\n",
    "my_thread.start()\n"
   ]
  },
  {
   "cell_type": "code",
   "execution_count": 6,
   "id": "2e3bb4bf-da7c-42bc-b3c2-10863d3db373",
   "metadata": {},
   "outputs": [
    {
     "name": "stdout",
     "output_type": "stream",
     "text": [
      "Task completed\n",
      "Thread finished\n"
     ]
    }
   ],
   "source": [
    "import threading\n",
    "import time\n",
    "\n",
    "def my_task():\n",
    "    time.sleep(3)\n",
    "    print(\"Task completed\")\n",
    "\n",
    "# Create and start a thread\n",
    "thread = threading.Thread(target=my_task)\n",
    "thread.start()\n",
    "\n",
    "# Wait for the thread to complete before continuing\n",
    "thread.join()\n",
    "print(\"Thread finished\")\n"
   ]
  },
  {
   "cell_type": "code",
   "execution_count": 12,
   "id": "eef4facb-a4aa-4d90-bc8e-3684c387afea",
   "metadata": {},
   "outputs": [
    {
     "name": "stdout",
     "output_type": "stream",
     "text": [
      "Thread is alive: True\n",
      "Thread is alive: False\n"
     ]
    }
   ],
   "source": [
    "import threading\n",
    "import time\n",
    "\n",
    "def my_function():\n",
    "    time.sleep(2)\n",
    "\n",
    "# Create and start a thread\n",
    "my_thread = threading.Thread(target=my_function)\n",
    "my_thread.start()\n",
    "\n",
    "# Add a delay to allow the thread to execute\n",
    "time.sleep(1)\n",
    "\n",
    "# Check if the thread is still running\n",
    "print(\"Thread is alive:\", my_thread.is_alive())\n",
    "\n",
    "# Add another delay\n",
    "time.sleep(3)\n",
    "\n",
    "# Check the status again after some time has passed\n",
    "print(\"Thread is alive:\", my_thread.is_alive())\n"
   ]
  },
  {
   "cell_type": "code",
   "execution_count": null,
   "id": "c608acf5-2b6d-4a3f-971f-892520987236",
   "metadata": {},
   "outputs": [],
   "source": []
  },
  {
   "cell_type": "markdown",
   "id": "b9980082-cf7e-4e9d-92cc-d8f96566fd7e",
   "metadata": {},
   "source": [
    "Write a python program to create two threads. Thread one must print the list of squares and thread\n",
    "two must print the list of cubes"
   ]
  },
  {
   "cell_type": "code",
   "execution_count": 13,
   "id": "b1d03df3-97c8-4848-9e4f-bdb59918de66",
   "metadata": {},
   "outputs": [
    {
     "name": "stdout",
     "output_type": "stream",
     "text": [
      "List of squares: [1, 4, 9, 16, 25, 36, 49, 64, 81, 100]\n",
      "List of cubes: [1, 8, 27, 64, 125, 216, 343, 512, 729, 1000]\n"
     ]
    }
   ],
   "source": [
    "import threading\n",
    "\n",
    "def print_squares():\n",
    "    squares = [i ** 2 for i in range(1, 11)]\n",
    "    print(\"List of squares:\", squares)\n",
    "\n",
    "def print_cubes():\n",
    "    cubes = [i ** 3 for i in range(1, 11)]\n",
    "    print(\"List of cubes:\", cubes)\n",
    "\n",
    "# Create threads\n",
    "thread_squares = threading.Thread(target=print_squares)\n",
    "thread_cubes = threading.Thread(target=print_cubes)\n",
    "\n",
    "# Start threads\n",
    "thread_squares.start()\n",
    "thread_cubes.start()\n",
    "\n",
    "# Wait for both threads to finish before exiting\n",
    "thread_squares.join()\n",
    "thread_cubes.join()\n"
   ]
  },
  {
   "cell_type": "markdown",
   "id": "5436cbe7-0a30-41a7-9886-778928c66936",
   "metadata": {},
   "source": [
    "5. State advantages and disadvantages of multithreading"
   ]
  },
  {
   "cell_type": "raw",
   "id": "0678c597-3aa0-426e-b248-a429fda2e80f",
   "metadata": {},
   "source": [
    "\n",
    "### Advantages:\n",
    "\n",
    "1. **Efficiency:** Multithreading boosts performance by allowing simultaneous execution of tasks, leveraging available resources effectively.\n",
    "\n",
    "2. **Responsiveness:** Enhances responsiveness in applications, enabling concurrent operations without blocking user interactions.\n",
    "\n",
    "### Disadvantages:\n",
    "\n",
    "1. **Complexity:** Managing threads introduces complexities like synchronization, potentially leading to bugs and errors.\n",
    "\n",
    "2. **Overhead:** Thread creation and synchronization consume additional system resources, impacting overall performance."
   ]
  },
  {
   "cell_type": "markdown",
   "id": "ac3a54ed-d741-41a6-92ff-58726b2be20d",
   "metadata": {},
   "source": [
    "6. Explain deadlocks and race conditions."
   ]
  },
  {
   "cell_type": "raw",
   "id": "136e6066-3287-458a-9227-a3ff07ed2771",
   "metadata": {},
   "source": [
    "Deadlocks:\n",
    "Definition: Deadlock occurs when two or more threads are blocked forever, each waiting for the other to release a resource that they possess. It's a situation where none of the involved threads can proceed with their execution.\n",
    "\n",
    "Cause: Typically arises due to improper resource locking and synchronization. When threads hold resources and wait indefinitely for other resources that are held by different threads, a deadlock can occur.\n",
    "\n",
    "Race Conditions:\n",
    "Definition: Race conditions happen when multiple threads access shared data or resources concurrently, and the final outcome depends on the timing/order of execution. The result is unpredictable and can vary each time the program runs.\n",
    "\n",
    "Cause: It arises due to lack of proper synchronization mechanisms when multiple threads attempt to modify shared resources simultaneously. The outcome becomes inconsistent as different threads access and modify the resource without coordination."
   ]
  },
  {
   "cell_type": "code",
   "execution_count": null,
   "id": "21688012-5d0f-42e7-af29-9ccd6c3e578c",
   "metadata": {},
   "outputs": [],
   "source": []
  }
 ],
 "metadata": {
  "kernelspec": {
   "display_name": "Python 3 (ipykernel)",
   "language": "python",
   "name": "python3"
  },
  "language_info": {
   "codemirror_mode": {
    "name": "ipython",
    "version": 3
   },
   "file_extension": ".py",
   "mimetype": "text/x-python",
   "name": "python",
   "nbconvert_exporter": "python",
   "pygments_lexer": "ipython3",
   "version": "3.10.8"
  }
 },
 "nbformat": 4,
 "nbformat_minor": 5
}
