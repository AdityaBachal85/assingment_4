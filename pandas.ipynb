{
 "cells": [
  {
   "cell_type": "markdown",
   "id": "f115b0f7-7f3d-484d-9579-8d4c0eb94db6",
   "metadata": {},
   "source": [
    "\n",
    "Q1. Create a Pandas Series that contains the following data: 4, 8, 15, 16, 23, and 42. Then, print the series.\n"
   ]
  },
  {
   "cell_type": "code",
   "execution_count": 1,
   "id": "3fd003e4-7863-4817-874f-0295929e804f",
   "metadata": {},
   "outputs": [
    {
     "name": "stdout",
     "output_type": "stream",
     "text": [
      "0     4\n",
      "1     8\n",
      "2    15\n",
      "3    16\n",
      "4    23\n",
      "5    42\n",
      "dtype: int64\n"
     ]
    }
   ],
   "source": [
    "import pandas as pd\n",
    "\n",
    "# Create a Pandas Series\n",
    "data = pd.Series([4, 8, 15, 16, 23, 42])\n",
    "\n",
    "# Print the Series\n",
    "print(data)\n"
   ]
  },
  {
   "cell_type": "markdown",
   "id": "5d872590-bce8-42e8-b000-58f3680ad01c",
   "metadata": {},
   "source": [
    "Q2. Create a variable of list type containing 10 elements in it, and apply pandas.Series function on the\n",
    "variable print it.\n"
   ]
  },
  {
   "cell_type": "code",
   "execution_count": 2,
   "id": "783aeeed-2d05-4a55-b075-60c1f8e58bda",
   "metadata": {},
   "outputs": [
    {
     "name": "stdout",
     "output_type": "stream",
     "text": [
      "0     1\n",
      "1     2\n",
      "2     3\n",
      "3     4\n",
      "4     5\n",
      "5     6\n",
      "6     7\n",
      "7     8\n",
      "8     9\n",
      "9    10\n",
      "dtype: int64\n"
     ]
    }
   ],
   "source": [
    "\n",
    "# Create a list\n",
    "my_list = [1, 2, 3, 4, 5, 6, 7, 8, 9, 10]\n",
    "\n",
    "# Convert list to Series\n",
    "series_from_list = pd.Series(my_list)\n",
    "\n",
    "# Print the Series\n",
    "print(series_from_list)\n"
   ]
  },
  {
   "cell_type": "markdown",
   "id": "042a5087-21fb-4101-bc91-6a94878124e5",
   "metadata": {},
   "source": [
    "Q3. Create a Pandas DataFrame that contains the following data:\n",
    "\n",
    "\n"
   ]
  },
  {
   "cell_type": "code",
   "execution_count": 3,
   "id": "81e49e7d-9aae-4a6f-9f9d-73d55336f6a7",
   "metadata": {},
   "outputs": [
    {
     "name": "stdout",
     "output_type": "stream",
     "text": [
      "      Name  Age  Gender\n",
      "0    Alice   25  Female\n",
      "1      Bob   30    Male\n",
      "2  Charlie   27  Female\n"
     ]
    }
   ],
   "source": [
    "import pandas as pd\n",
    "\n",
    "# Create a dictionary with the given data\n",
    "data = {\n",
    "    'Name': ['Alice', 'Bob', 'Charlie'],\n",
    "    'Age': [25, 30, 27 ],\n",
    "    'Gender': ['Female', 'Male', 'Female']\n",
    "}\n",
    "\n",
    "# Create a DataFrame\n",
    "df = pd.DataFrame(data)\n",
    "\n",
    "# Print the DataFrame\n",
    "print(df)\n"
   ]
  },
  {
   "cell_type": "markdown",
   "id": "3a23d464-f5b8-4beb-91c8-0791f2e57769",
   "metadata": {},
   "source": [
    "Q4. What is ‘DataFrame’ in pandas and how is it different from pandas.series? Explain with an example.\n",
    "\n",
    "\n",
    "A DataFrame in Pandas is a two-dimensional labeled data structure with columns of potentially different types. It is similar to a table in a relational database or a spreadsheet. Each column in a DataFrame is a Pandas Series. The main difference between a Pandas Series and a DataFrame is that a Series represents a single column of data, while a DataFrame is capable of storing multiple columns of data.\n"
   ]
  },
  {
   "cell_type": "code",
   "execution_count": 6,
   "id": "33dbff06-533f-402e-bb89-24173a9d9637",
   "metadata": {},
   "outputs": [
    {
     "name": "stdout",
     "output_type": "stream",
     "text": [
      "Series:\n",
      "0    1\n",
      "1    2\n",
      "2    3\n",
      "3    4\n",
      "4    5\n",
      "dtype: int64\n",
      "\n",
      "DataFrame:\n",
      "   A  B\n",
      "0  1  4\n",
      "1  2  5\n",
      "2  3  6\n"
     ]
    }
   ],
   "source": [
    "\n",
    "# Creating a Series\n",
    "series_data = pd.Series([1, 2, 3, 4, 5])\n",
    "\n",
    "# Creating a DataFrame\n",
    "df_data = pd.DataFrame({'A': [1, 2, 3], 'B': [4, 5, 6]})\n",
    "\n",
    "print(\"Series:\")\n",
    "print(series_data)\n",
    "print(\"\\nDataFrame:\")\n",
    "print(df_data)\n"
   ]
  },
  {
   "cell_type": "markdown",
   "id": "5f3cf83d-d1af-4d62-9c14-670c0d1e25ce",
   "metadata": {},
   "source": [
    "Q5. What are some common functions you can use to manipulate data in a Pandas DataFrame? Can\n",
    "you give an example of when you might use one of these functions?\n"
   ]
  },
  {
   "cell_type": "markdown",
   "id": "984210e3-a104-411f-911c-023665ac610e",
   "metadata": {},
   "source": [
    "head(): View the first few rows of the DataFrame.\n",
    "tail(): View the last few rows of the DataFrame.\n",
    "describe(): Generate descriptive statistics summary of the DataFrame.\n",
    "info(): Display concise summary information about the DataFrame.\n",
    "drop(): Remove rows or columns from the DataFrame.\n",
    "sort_values(): Sort the DataFrame by specified column(s).\n",
    "groupby(): Group DataFrame using a mapper or by a Series of columns.\n",
    "merge(): Merge DataFrame or Series objects by performing a database-style join operation.\n",
    "pivot_table(): Create a spreadsheet-style pivot table as a DataFrame."
   ]
  },
  {
   "cell_type": "code",
   "execution_count": 5,
   "id": "e857bbcd-a608-41ec-a5de-8e44f2a88f77",
   "metadata": {},
   "outputs": [
    {
     "name": "stdout",
     "output_type": "stream",
     "text": [
      "      Name  Age  Salary\n",
      "0    Alice   25   50000\n",
      "1      Bob   30   60000\n",
      "2  Charlie   35   70000\n",
      "3    David   40   80000\n",
      "4     Emma   45   90000\n"
     ]
    }
   ],
   "source": [
    "\n",
    "# Create a DataFrame\n",
    "data = {'Name': ['Alice', 'Bob', 'Charlie', 'David', 'Emma'],\n",
    "        'Age': [25, 30, 35, 40, 45],\n",
    "        'Salary': [50000, 60000, 70000, 80000, 90000]}\n",
    "df = pd.DataFrame(data)\n",
    "\n",
    "# View the first few rows of the DataFrame\n",
    "print(df.head())\n"
   ]
  },
  {
   "cell_type": "markdown",
   "id": "d0d3943e-cf3c-4e92-992d-6564829bcb2e",
   "metadata": {},
   "source": [
    "Q6. Which of the following is mutable in nature Series, DataFrame, Panel?\n"
   ]
  },
  {
   "cell_type": "markdown",
   "id": "f149eb4f-e88b-4f7b-9a36-8a5b8530439a",
   "metadata": {},
   "source": [
    "\n",
    "Among Series, DataFrame, and Panel, only DataFrame is mutable in nature. Both Series and Panel are immutable."
   ]
  },
  {
   "cell_type": "markdown",
   "id": "bf4cdd8a-c13e-44a4-a7a6-db80ddc9619a",
   "metadata": {},
   "source": [
    "Q7. Create a DataFrame using multiple Series. Explain with an example."
   ]
  },
  {
   "cell_type": "code",
   "execution_count": 7,
   "id": "7526354d-100c-49c9-84c1-50cae2dc7887",
   "metadata": {},
   "outputs": [
    {
     "name": "stdout",
     "output_type": "stream",
     "text": [
      "      Name  Age  Salary\n",
      "0    Alice   25   50000\n",
      "1      Bob   30   60000\n",
      "2  Charlie   35   70000\n",
      "3    David   40   80000\n",
      "4     Emma   45   90000\n"
     ]
    }
   ],
   "source": [
    "\n",
    "names = pd.Series(['Alice', 'Bob', 'Charlie', 'David', 'Emma'])\n",
    "ages = pd.Series([25, 30, 35, 40, 45])\n",
    "salaries = pd.Series([50000, 60000, 70000, 80000, 90000])\n",
    "\n",
    "# Create DataFrame using multiple Series\n",
    "df = pd.DataFrame({'Name': names, 'Age': ages, 'Salary': salaries})\n",
    "\n",
    "# Print the DataFrame\n",
    "print(df)\n"
   ]
  },
  {
   "cell_type": "code",
   "execution_count": null,
   "id": "ce04a328-6960-47d7-8b4a-d2780008f3ff",
   "metadata": {},
   "outputs": [],
   "source": []
  }
 ],
 "metadata": {
  "kernelspec": {
   "display_name": "Python 3 (ipykernel)",
   "language": "python",
   "name": "python3"
  },
  "language_info": {
   "codemirror_mode": {
    "name": "ipython",
    "version": 3
   },
   "file_extension": ".py",
   "mimetype": "text/x-python",
   "name": "python",
   "nbconvert_exporter": "python",
   "pygments_lexer": "ipython3",
   "version": "3.10.8"
  }
 },
 "nbformat": 4,
 "nbformat_minor": 5
}
