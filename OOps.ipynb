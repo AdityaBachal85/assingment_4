{
 "cells": [
  {
   "cell_type": "markdown",
   "id": "37a6f02f-8a64-4e7a-a059-92f5534641b5",
   "metadata": {},
   "source": [
    "Q.1\n",
    "\n",
    "Class:\n",
    "A class is a blueprint or template for creating objects. It defines the properties (attributes) and behaviors (methods) that objects of that class will have. In other words, a class encapsulates the common characteristics and functionalities of a group of objects.\n",
    "\n",
    "Object:\n",
    "An object is an instance of a class. It is a concrete entity created based on the class definition. Objects have their own set of attributes and can perform actions through the methods defined in their class.\n",
    "\n",
    "here is an example\n"
   ]
  },
  {
   "cell_type": "code",
   "execution_count": 1,
   "id": "3da040c6-2b0d-46ca-be99-2958b9e70986",
   "metadata": {},
   "outputs": [],
   "source": [
    "class Car:\n",
    "    def __init__(self, make, model, year):\n",
    "        self.make = make\n",
    "        self.model = model\n",
    "        self.year = year\n",
    "        self.is_running = False\n",
    "\n",
    "    def start(self):\n",
    "        self.is_running = True\n",
    "        print(f\"The {self.year} {self.make} {self.model} is now running.\")\n",
    "\n",
    "    def stop(self):\n",
    "        self.is_running = False\n",
    "        print(f\"The {self.year} {self.make} {self.model} has been stopped.\")\n"
   ]
  },
  {
   "cell_type": "code",
   "execution_count": 2,
   "id": "8894f012-61a8-404d-bf76-b5d99db7fb9b",
   "metadata": {},
   "outputs": [],
   "source": [
    "car1 = Car(\"Toyota\", \"Camry\", 2022)\n",
    "car2 = Car(\"Tesla\", \"Model S\", 2023)\n"
   ]
  },
  {
   "cell_type": "code",
   "execution_count": 3,
   "id": "2fd5d03a-44c3-4753-90ab-f4121ec9359d",
   "metadata": {},
   "outputs": [
    {
     "name": "stdout",
     "output_type": "stream",
     "text": [
      "The 2022 Toyota Camry is now running.\n",
      "The 2023 Tesla Model S is now running.\n",
      "The 2022 Toyota Camry has been stopped.\n"
     ]
    }
   ],
   "source": [
    "car1.start()\n",
    "car2.start()\n",
    "car1.stop()\n"
   ]
  },
  {
   "cell_type": "code",
   "execution_count": null,
   "id": "fb611805-af41-4013-b6ae-4f469a0c9ad5",
   "metadata": {},
   "outputs": [],
   "source": []
  },
  {
   "cell_type": "markdown",
   "id": "04c75e39-0309-470c-8f74-c3da7ffe037f",
   "metadata": {},
   "source": [
    "Q.2\n",
    "\n",
    "Encapsulation: Bundling data and methods for controlled access and privacy.\n",
    "\n",
    "Abstraction: Simplifying reality by focusing on essential features, hiding unnecessary details.\n",
    "\n",
    "Inheritance: Reusing attributes and behaviors from existing classes, promoting code hierarchy.\n",
    "\n",
    "Polymorphism: Treating different classes as instances of a common interface."
   ]
  },
  {
   "cell_type": "code",
   "execution_count": null,
   "id": "af942b09-4b7e-4ea5-ab1d-62769cdd8239",
   "metadata": {},
   "outputs": [],
   "source": []
  },
  {
   "cell_type": "markdown",
   "id": "7410c6c6-6797-4c80-bd40-b6588569cdff",
   "metadata": {},
   "source": [
    "Q.3\n",
    "\n",
    "The __init__() function is used in Python classes to initialize the attributes of an object when it is created. It's a special method also known as a constructor. It allows you to set initial values for the object's attributes, ensuring that they are properly initialized before the object can be used."
   ]
  },
  {
   "cell_type": "code",
   "execution_count": 4,
   "id": "db7bd92d-d84b-4d18-b1b0-31e30e2c6dca",
   "metadata": {},
   "outputs": [
    {
     "name": "stdout",
     "output_type": "stream",
     "text": [
      "Hi, I'm Alice and I'm 30 years old.\n",
      "Hi, I'm Bob and I'm 25 years old.\n"
     ]
    }
   ],
   "source": [
    "class Person:\n",
    "    def __init__(self, name, age):\n",
    "        self.name = name\n",
    "        self.age = age\n",
    "\n",
    "    def introduce(self):\n",
    "        print(f\"Hi, I'm {self.name} and I'm {self.age} years old.\")\n",
    "\n",
    "# Creating instances of the Person class\n",
    "person1 = Person(\"Alice\", 30)\n",
    "person2 = Person(\"Bob\", 25)\n",
    "\n",
    "# Calling the introduce method on the instances\n",
    "person1.introduce()\n",
    "person2.introduce()\n"
   ]
  },
  {
   "cell_type": "markdown",
   "id": "abe800b0-5142-4723-9751-41148605c502",
   "metadata": {},
   "source": [
    "Q.4\n",
    "\n",
    "In OOP, `self` is used to refer to the instance of the class within its methods, allowing access to its attributes and methods. It helps differentiate between instance variables and parameters, enabling proper encapsulation and object-specific interactions."
   ]
  },
  {
   "cell_type": "markdown",
   "id": "c54825e8-8511-41a4-a40a-b5c2b274a80a",
   "metadata": {},
   "source": [
    "Q.5\n",
    "\n",
    "Inheritance is a fundamental concept in object-oriented programming (OOP) where a new class (subclass or derived class) is created based on an existing class (base class or superclass). The subclass inherits attributes and methods from the superclass, promoting code reuse and establishing a hierarchical relationship between classes.\n",
    "\n",
    "There are various types of inheritance:\n",
    "Single inheritance.\n",
    "Multi-level inheritance.\n",
    "Multiple inheritance.\n",
    "Multipath inheritance.\n",
    "Hierarchical Inheritance.\n",
    "Hybrid Inheritance."
   ]
  },
  {
   "cell_type": "code",
   "execution_count": 8,
   "id": "9c66492d-ebe2-4483-97db-e03bf01c8531",
   "metadata": {},
   "outputs": [
    {
     "name": "stdout",
     "output_type": "stream",
     "text": [
      "Hello, son.\n",
      "Hi, dear.\n"
     ]
    }
   ],
   "source": [
    "class Father:\n",
    "    def talk(self):\n",
    "        return \"Hello, son.\"\n",
    "\n",
    "class Mother:\n",
    "    def talk(self):\n",
    "        return \"Hi, dear.\"\n",
    "\n",
    "class Child(Father, Mother):\n",
    "    pass\n",
    "child = Child()\n",
    "print(child.talk())  # Output: \"Hello, son.\"\n",
    "mother = Mother()\n",
    "print(mother.talk())\n",
    "\n"
   ]
  },
  {
   "cell_type": "code",
   "execution_count": null,
   "id": "5695defe-05c6-4e3c-8028-1931629aa096",
   "metadata": {},
   "outputs": [],
   "source": []
  }
 ],
 "metadata": {
  "kernelspec": {
   "display_name": "Python 3 (ipykernel)",
   "language": "python",
   "name": "python3"
  },
  "language_info": {
   "codemirror_mode": {
    "name": "ipython",
    "version": 3
   },
   "file_extension": ".py",
   "mimetype": "text/x-python",
   "name": "python",
   "nbconvert_exporter": "python",
   "pygments_lexer": "ipython3",
   "version": "3.10.8"
  }
 },
 "nbformat": 4,
 "nbformat_minor": 5
}
