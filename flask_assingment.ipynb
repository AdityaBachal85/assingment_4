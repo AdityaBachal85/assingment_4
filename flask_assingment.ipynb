{
 "cells": [
  {
   "cell_type": "markdown",
   "metadata": {},
   "source": [
    "Q1. What is Flask Framework? What are the advantages of Flask Framework?\n",
    "\n",
    "Flask is a micro web framework written in Python. It is lightweight, easy to use, and designed to make getting started quick and easy. Flask is widely used for building web applications and APIs due to its simplicity and flexibility.\n",
    "\n",
    "Advantages of Flask Framework:\n",
    "\n",
    "Lightweight: Flask is minimalistic and does not require any particular libraries or tools to function, making it lightweight and easy to use.\n",
    "Easy to Learn: Flask's simple and intuitive design makes it easy for beginners to learn and start building web applications quickly.\n",
    "Flexibility: Flask allows developers to choose the tools and libraries they want to use, providing flexibility in building web applications according to specific requirements.\n",
    "Extensibility: Flask can be easily extended with various extensions available for tasks like form validation, authentication, and more.\n",
    "Well-Documented: Flask has comprehensive documentation and a large community, making it easy to find resources and solutions to problems.\n",
    "Integrated Development Server: Flask comes with a built-in development server, allowing developers to test their applications locally during development.\n",
    "RESTful Request Dispatching: Flask supports RESTful request dispatching, making it suitable for building RESTful APIs."
   ]
  },
  {
   "cell_type": "markdown",
   "metadata": {},
   "source": [
    "Q2. Create a simple Flask application to display ‘Hello World!!’. Attach the screenshot of the output in Jupyter Notebook."
   ]
  },
  {
   "cell_type": "code",
   "execution_count": 4,
   "metadata": {},
   "outputs": [],
   "source": [
    "from flask import Flask\n",
    "\n",
    "\n"
   ]
  },
  {
   "cell_type": "code",
   "execution_count": null,
   "metadata": {},
   "outputs": [],
   "source": [
    "app = Flask(__name__)\n",
    "\n",
    "@app.route(\"/\")\n",
    "def hello_world():\n",
    "    return \"Hello, World!\"\n",
    "\n",
    "if __name__==\"__main__\":\n",
    "    app.run(host=\"0.0.0.0\")\n"
   ]
  },
  {
   "cell_type": "code",
   "execution_count": 2,
   "metadata": {},
   "outputs": [
    {
     "data": {
      "text/html": [
       "<img src=\"Screenshot 2024-02-08 170855.png\" width=\"500\" height=\"200\"/>"
      ],
      "text/plain": [
       "<IPython.core.display.Image object>"
      ]
     },
     "execution_count": 2,
     "metadata": {},
     "output_type": "execute_result"
    }
   ],
   "source": [
    "# import image module \n",
    "from IPython.display import Image \n",
    "\n",
    "# get the image \n",
    "Image(url=\"Screenshot 2024-02-08 170855.png\", width=500, height=200) \n"
   ]
  },
  {
   "cell_type": "markdown",
   "metadata": {},
   "source": [
    "Q3. What is App routing in Flask? Why do we use app routes?\n",
    "\n",
    "App routing in Flask refers to mapping URLs to functions, known as view functions, within a Flask application. This mapping is done using the @app.route() decorator, where you specify the URL endpoint and associate it with a Python function.\n",
    "\n",
    "We use app routes in Flask to define the behavior of our web application. When a user requests a specific URL, Flask uses the corresponding route to determine which function to execute and what content to return as a response. App routes allow us to create a logical structure for our web application and define the different pages or endpoints available to users."
   ]
  },
  {
   "cell_type": "markdown",
   "metadata": {},
   "source": [
    "Q4. Create a \"/welcome\" route to display the welcome message “Welcome to ABC Corporation” and a \"/\" route to show the following details:"
   ]
  },
  {
   "cell_type": "code",
   "execution_count": null,
   "metadata": {},
   "outputs": [],
   "source": [
    "from flask import Flask\n",
    "\n",
    "app = Flask(__name__)\n",
    "\n",
    "@app.route('/')\n",
    "def index():\n",
    "    return \"\"\"\n",
    "    Company Name: ABC Corporation<br>\n",
    "    Location: India<br>\n",
    "    Contact Detail: 999-999-9999\n",
    "    \"\"\"\n",
    "\n",
    "@app.route('/welcome')\n",
    "def welcome():\n",
    "    return 'Welcome to ABC Corporation'\n",
    "\n",
    "if __name__ == '__main__':\n",
    "    app.run(host=\"0.0.0.0\")\n"
   ]
  },
  {
   "cell_type": "code",
   "execution_count": 4,
   "metadata": {},
   "outputs": [
    {
     "data": {
      "text/html": [
       "<img src=\"Screenshot 2024-02-08 175247.png\" width=\"500\" height=\"200\"/>"
      ],
      "text/plain": [
       "<IPython.core.display.Image object>"
      ]
     },
     "execution_count": 4,
     "metadata": {},
     "output_type": "execute_result"
    }
   ],
   "source": [
    "Image(url=\"Screenshot 2024-02-08 175247.png\", width=500, height=200) "
   ]
  },
  {
   "cell_type": "markdown",
   "metadata": {},
   "source": [
    "Q5. What function is used in Flask for URL Building? Write a Python code to demonstrate the working of the url_for() function.\n",
    "\n",
    "In Flask, the url_for() function is used for URL building. It generates a URL for the given endpoint with the method provided. This function accepts the endpoint name and any number of keyword arguments, which correspond to variable parts of the URL rule.\n",
    "\n",
    "Here's a Python code to demonstrate the working of the url_for() function:"
   ]
  },
  {
   "cell_type": "code",
   "execution_count": null,
   "metadata": {},
   "outputs": [],
   "source": [
    "from flask import Flask, url_for\n",
    "\n",
    "app = Flask(__name__)\n",
    "\n",
    "@app.route('/')\n",
    "def index():\n",
    "    # Generate a URL for the 'welcome' endpoint\n",
    "    welcome_url = url_for('welcome')\n",
    "    return f'The URL for welcome page is: {welcome_url}'\n",
    "\n",
    "@app.route('/welcome')\n",
    "def welcome():\n",
    "    return 'Welcome to ABC Corporation'\n",
    "\n",
    "if __name__ == '__main__':\n",
    "    app.run(host=\"0.0.0.0\")\n"
   ]
  },
  {
   "cell_type": "code",
   "execution_count": 6,
   "metadata": {},
   "outputs": [
    {
     "data": {
      "text/html": [
       "<img src=\"Screenshot 2024-02-08 175709.png\" width=\"500\" height=\"200\"/>"
      ],
      "text/plain": [
       "<IPython.core.display.Image object>"
      ]
     },
     "execution_count": 6,
     "metadata": {},
     "output_type": "execute_result"
    }
   ],
   "source": [
    "Image(url=\"Screenshot 2024-02-08 175709.png\", width=500, height=200) "
   ]
  },
  {
   "cell_type": "code",
   "execution_count": null,
   "metadata": {},
   "outputs": [],
   "source": []
  }
 ],
 "metadata": {
  "kernelspec": {
   "display_name": "Python 3.8.10 64-bit",
   "language": "python",
   "name": "python3"
  },
  "language_info": {
   "codemirror_mode": {
    "name": "ipython",
    "version": 3
   },
   "file_extension": ".py",
   "mimetype": "text/x-python",
   "name": "python",
   "nbconvert_exporter": "python",
   "pygments_lexer": "ipython3",
   "version": "3.8.10"
  },
  "orig_nbformat": 4,
  "vscode": {
   "interpreter": {
    "hash": "e7370f93d1d0cde622a1f8e1c04877d8463912d04d973331ad4851f04de6915a"
   }
  }
 },
 "nbformat": 4,
 "nbformat_minor": 2
}
