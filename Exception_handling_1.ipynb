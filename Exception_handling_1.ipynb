{
 "cells": [
  {
   "cell_type": "markdown",
   "id": "9cc17149-03f9-43bc-a9ff-474c1985a602",
   "metadata": {},
   "source": [
    "Q1. What is an Exception in python? Write the difference between Exceptions and Syntax errors."
   ]
  },
  {
   "cell_type": "markdown",
   "id": "42af3637-5222-470e-877f-e32f17ac14da",
   "metadata": {},
   "source": [
    "ANS:\n",
    "\n",
    "In Python, an exception is an event that occurs during the execution of a program, which disrupts the normal flow of the program's instructions. When a situation arises that Python can't cope with, it raises an exception. This could be due to various reasons like invalid user input, a file not found, dividing by zero, etc. Exceptions can be handled using try, except, finally, and raise blocks.\n",
    "\n",
    "\n",
    "Exceptions:\n",
    "\n",
    "1.Occur during the execution of the program.\n",
    "2.Caused by events like invalid input or operations.\n",
    "3.Handled using try-except blocks.\n",
    "4.Examples: ZeroDivisionError, FileNotFoundError, TypeError, etc.\n",
    "\n",
    "Syntax Errors:\n",
    "\n",
    "1.Occur before the program starts running, during the parsing phase.\n",
    "2.Caused by violations of the language's syntax rules.\n",
    "3.Prevent the program from running.\n",
    "4.Examples: Misspelled keywords, missing colons or parentheses, incorrect indentation, etc."
   ]
  },
  {
   "cell_type": "code",
   "execution_count": null,
   "id": "c21047ec-c346-45c1-be0e-60e8f2501b47",
   "metadata": {},
   "outputs": [],
   "source": []
  },
  {
   "cell_type": "markdown",
   "id": "4c66269c-4a0e-4e95-ad1e-be724a3992db",
   "metadata": {},
   "source": [
    "Q2. What happens when an exception is not handled? Explain with an example."
   ]
  },
  {
   "cell_type": "markdown",
   "id": "929cc0c0-98c0-4115-a7da-d2b2b6863bb4",
   "metadata": {},
   "source": [
    "\n",
    "When an exception is not handled, it causes the program to halt abruptly, displaying an error message traceback. This termination disrupts the normal flow of the program and can prevent it from completing its intended tasks. The error traceback provides information about the exception type, the line of code where the exception occurred, and the sequence of function calls that led to the exception."
   ]
  },
  {
   "cell_type": "code",
   "execution_count": 1,
   "id": "c453d968-b6e6-4c65-9d16-30245e709d7c",
   "metadata": {},
   "outputs": [
    {
     "ename": "ZeroDivisionError",
     "evalue": "division by zero",
     "output_type": "error",
     "traceback": [
      "\u001b[0;31m---------------------------------------------------------------------------\u001b[0m",
      "\u001b[0;31mZeroDivisionError\u001b[0m                         Traceback (most recent call last)",
      "Cell \u001b[0;32mIn[1], line 6\u001b[0m\n\u001b[1;32m      3\u001b[0m numerator \u001b[38;5;241m=\u001b[39m \u001b[38;5;241m10\u001b[39m\n\u001b[1;32m      4\u001b[0m denominator \u001b[38;5;241m=\u001b[39m \u001b[38;5;241m0\u001b[39m\n\u001b[0;32m----> 6\u001b[0m result \u001b[38;5;241m=\u001b[39m \u001b[43mnumerator\u001b[49m\u001b[43m \u001b[49m\u001b[38;5;241;43m/\u001b[39;49m\u001b[43m \u001b[49m\u001b[43mdenominator\u001b[49m  \u001b[38;5;66;03m# Attempting to divide by zero\u001b[39;00m\n\u001b[1;32m      7\u001b[0m \u001b[38;5;28mprint\u001b[39m(\u001b[38;5;124m\"\u001b[39m\u001b[38;5;124mResult:\u001b[39m\u001b[38;5;124m\"\u001b[39m, result)  \u001b[38;5;66;03m# This line won't execute due to the unhandled exception\u001b[39;00m\n",
      "\u001b[0;31mZeroDivisionError\u001b[0m: division by zero"
     ]
    }
   ],
   "source": [
    "# Example: Division by zero without handling the exception\n",
    "\n",
    "numerator = 10\n",
    "denominator = 0\n",
    "\n",
    "result = numerator / denominator  # Attempting to divide by zero\n",
    "print(\"Result:\", result)  # This line won't execute due to the unhandled exception\n"
   ]
  },
  {
   "cell_type": "markdown",
   "id": "9029606f-d2d4-4790-b228-f6ce7f4effec",
   "metadata": {},
   "source": [
    "Q3. Which Python statements are used to catch and handle exceptions? Explain with an example."
   ]
  },
  {
   "cell_type": "markdown",
   "id": "5bec56d0-9a12-4c31-82c1-0e6ebff2089d",
   "metadata": {},
   "source": [
    "Python uses try, except, finally, and raise statements to catch and handle exceptions.\n",
    "\n",
    "try block: This block contains the code where an exception might occur. It is followed by one or more except blocks to handle specific exceptions.\n",
    "\n",
    "except block: When an exception occurs in the try block, Python looks for a matching except block that can handle that specific type of exception. If found, the code within that except block is executed.\n",
    "\n",
    "finally block: This block, if present, runs regardless of whether an exception was raised or not. It's often used for cleanup operations and executes after the try-except blocks.\n",
    "\n",
    "raise statement: This is used to manually raise an exception. It allows you to create custom exceptions or raise built-in ones in specific scenarios.\n",
    "\n",
    "Here's an example demonstrating the use of try-except blocks:"
   ]
  },
  {
   "cell_type": "code",
   "execution_count": 2,
   "id": "2562e81f-56ae-47e2-90c3-4e53f0a00709",
   "metadata": {},
   "outputs": [
    {
     "name": "stdout",
     "output_type": "stream",
     "text": [
      "Result: 5.0\n",
      "This cleanup code always runs\n",
      "Error: Division by zero is not allowed\n",
      "This cleanup code always runs\n"
     ]
    }
   ],
   "source": [
    "def divide(x, y):\n",
    "    try:\n",
    "        result = x / y  # Attempting division that may cause an exception\n",
    "        print(\"Result:\", result)\n",
    "    except ZeroDivisionError:\n",
    "        print(\"Error: Division by zero is not allowed\")\n",
    "    finally:\n",
    "        print(\"This cleanup code always runs\")\n",
    "\n",
    "# Example calls to the divide function\n",
    "divide(10, 2)   # Normal division, no exception\n",
    "divide(10, 0)   # Division by zero, triggers the except block\n"
   ]
  },
  {
   "cell_type": "code",
   "execution_count": null,
   "id": "87085ed2-0740-42e0-9dff-3c6c5d47963f",
   "metadata": {},
   "outputs": [],
   "source": []
  },
  {
   "cell_type": "markdown",
   "id": "9a5da51e-2c71-4f40-a5e6-bb93bfc3cfcf",
   "metadata": {},
   "source": [
    "Q4. Explain with an example:\n",
    "\n",
    "a. try and else\n",
    "\n",
    "b. finally\n",
    "\n",
    "c. raise\n"
   ]
  },
  {
   "cell_type": "code",
   "execution_count": null,
   "id": "e864bbe1-a9e9-4637-82ba-f1b02befa27f",
   "metadata": {},
   "outputs": [],
   "source": []
  },
  {
   "cell_type": "code",
   "execution_count": 3,
   "id": "873f29c4-409f-4ad7-982b-f20920872938",
   "metadata": {},
   "outputs": [
    {
     "name": "stdout",
     "output_type": "stream",
     "text": [
      "Division result: 5.0\n",
      "This cleanup code always runs\n",
      "Error: Division by zero\n",
      "This cleanup code always runs\n"
     ]
    }
   ],
   "source": [
    "def division(a, b):\n",
    "    try:\n",
    "        result = a / b\n",
    "    except ZeroDivisionError:\n",
    "        print(\"Error: Division by zero\")\n",
    "    else:\n",
    "        print(\"Division result:\", result)\n",
    "        # If no exception occurs, the code in the else block executes\n",
    "    finally:\n",
    "        print(\"This cleanup code always runs\")\n",
    "\n",
    "# Example calls to division function\n",
    "division(10, 2)   # Successful division, else block executes\n",
    "division(10, 0)   # Division by zero, triggers except block\n"
   ]
  },
  {
   "cell_type": "code",
   "execution_count": 24,
   "id": "0872187c-36e3-466d-b780-52a54b1d0bf2",
   "metadata": {},
   "outputs": [
    {
     "name": "stdout",
     "output_type": "stream",
     "text": [
      "File not found\n",
      "Hi myself Aditya Bachal \n",
      "form PW skills \n",
      "Data scince\n",
      "\n",
      "File closed in finally block\n"
     ]
    }
   ],
   "source": [
    "try:\n",
    "    file = open(\"example.txt\", \"r\")\n",
    "    file2 = open(\"aditya.txt\",\"r\")\n",
    "    try:\n",
    "        # Perform file operations\n",
    "        data = file.read()\n",
    "        data2 = file2.read()\n",
    "        print(data)\n",
    "        print(data2)\n",
    "    finally:\n",
    "        file.close()\n",
    "        file2.close()\n",
    "        print(\"File closed in finally block\")\n",
    "except FileNotFoundError:\n",
    "    print(\"File not found\")\n",
    "        \n",
    "\n",
    "    try:\n",
    "        # Perform file operations\n",
    "        data = file.read()\n",
    "        \n",
    "        print(data)\n",
    "       \n",
    "    finally:\n",
    "        file.close()\n",
    "    \n",
    "        print(\"File closed in finally block\")\n",
    "except FileNotFoundError:\n",
    "    print(\"File not found\")"
   ]
  },
  {
   "cell_type": "code",
   "execution_count": 5,
   "id": "852cf70e-193a-4284-bca3-c08ca388b12a",
   "metadata": {},
   "outputs": [
    {
     "name": "stdout",
     "output_type": "stream",
     "text": [
      "Value is valid\n",
      "Error: Value cannot be negative\n"
     ]
    }
   ],
   "source": [
    "def check_value(value):\n",
    "    if value < 0:\n",
    "        raise ValueError(\"Value cannot be negative\")\n",
    "    else:\n",
    "        print(\"Value is valid\")\n",
    "\n",
    "# Example calls to check_value function\n",
    "try:\n",
    "    check_value(10)    # Valid value, no exception raised\n",
    "    check_value(-5)    # Negative value, raises ValueError\n",
    "except ValueError as e:\n",
    "    print(\"Error:\", e)\n"
   ]
  },
  {
   "cell_type": "markdown",
   "id": "dc8a45e2-950f-4430-bac2-71c9857bb22a",
   "metadata": {},
   "source": [
    "Q5. What are Custom Exceptions in python? Why do we need Custom Exceptions? Explain with an example.\n",
    "\n"
   ]
  },
  {
   "cell_type": "raw",
   "id": "108fe6b2-d71f-407a-9c1c-b1d1154b225a",
   "metadata": {},
   "source": [
    " custom exceptions allow you to create your own specific exception classes tailored to your application's needs. They inherit from Python's built-in Exception class or any other built-in exception, allowing you to define unique error conditions that aren't covered by the standard exceptions.\n",
    " \n",
    " Clarity: Custom exceptions help in making your code more readable and understandable by providing specific names for different error scenarios, enhancing code clarity.\n",
    "\n",
    "Granularity: They allow you to handle different types of errors separately, providing more granularity in error handling and allowing specific responses for each case."
   ]
  },
  {
   "cell_type": "code",
   "execution_count": 3,
   "id": "60f06af6-c8bb-4a46-bf18-e2f52df0203a",
   "metadata": {},
   "outputs": [
    {
     "name": "stdout",
     "output_type": "stream",
     "text": [
      "Insufficient funds: Cannot withdraw 1800. Available balance: 1000\n"
     ]
    }
   ],
   "source": [
    "class InsufficientFundsError(Exception):\n",
    "    \"\"\"Custom exception for insufficient funds in the account.\"\"\"\n",
    "\n",
    "    def __init__(self, amount, balance):\n",
    "        super().__init__(f\"Insufficient funds: Cannot withdraw {amount}. Available balance: {balance}\")\n",
    "        self.amount = amount\n",
    "        self.balance = balance\n",
    "\n",
    "class BankAccount:\n",
    "    def __init__(self, balance):\n",
    "        self.balance = balance\n",
    "\n",
    "    def withdraw(self, amount):\n",
    "        if amount > self.balance:\n",
    "            raise InsufficientFundsError(amount, self.balance)\n",
    "        else:\n",
    "            self.balance -= amount\n",
    "            print(f\"Withdrawal of {amount} successful. Remaining balance: {self.balance}\")\n",
    "\n",
    "# Example usage:\n",
    "account_balance = 1000\n",
    "account = BankAccount(account_balance)\n",
    "\n",
    "try:\n",
    "    withdrawal_amount = 1800\n",
    "    account.withdraw(withdrawal_amount)\n",
    "except InsufficientFundsError as e:\n",
    "    print(e)\n"
   ]
  },
  {
   "cell_type": "markdown",
   "id": "97947fb3-19e8-4cc5-a59c-095f06c30532",
   "metadata": {},
   "source": [
    "Q6. Create a custom exception class. Use this class to handle an exception."
   ]
  },
  {
   "cell_type": "code",
   "execution_count": 4,
   "id": "5e6b81e8-a885-47d7-9b27-4c4308e7027f",
   "metadata": {},
   "outputs": [
    {
     "name": "stdout",
     "output_type": "stream",
     "text": [
      "Caught CustomError: Value cannot be negative.\n"
     ]
    }
   ],
   "source": [
    "# Custom exception class\n",
    "class CustomError(Exception):\n",
    "    \"\"\"Custom exception class.\"\"\"\n",
    "    def __init__(self, message):\n",
    "        super().__init__(message)\n",
    "\n",
    "# Function that raises the custom exception\n",
    "def custom_function(value):\n",
    "    if value < 0:\n",
    "        raise CustomError(\"Value cannot be negative.\")\n",
    "\n",
    "# Example usage\n",
    "try:\n",
    "    user_value = -5\n",
    "    custom_function(user_value)\n",
    "except CustomError as e:\n",
    "    print(f\"Caught CustomError: {e}\")\n"
   ]
  },
  {
   "cell_type": "code",
   "execution_count": null,
   "id": "aa97c6d7-5fae-4173-8fb0-c3f5cd54daba",
   "metadata": {},
   "outputs": [],
   "source": []
  }
 ],
 "metadata": {
  "kernelspec": {
   "display_name": "Python 3 (ipykernel)",
   "language": "python",
   "name": "python3"
  },
  "language_info": {
   "codemirror_mode": {
    "name": "ipython",
    "version": 3
   },
   "file_extension": ".py",
   "mimetype": "text/x-python",
   "name": "python",
   "nbconvert_exporter": "python",
   "pygments_lexer": "ipython3",
   "version": "3.10.8"
  }
 },
 "nbformat": 4,
 "nbformat_minor": 5
}
