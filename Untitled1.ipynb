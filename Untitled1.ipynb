{
 "cells": [
  {
   "cell_type": "markdown",
   "id": "2bfdce26-7853-4aa2-997b-5623b4bea9f4",
   "metadata": {},
   "source": [
    "Q.1\n",
    "\n"
   ]
  },
  {
   "cell_type": "code",
   "execution_count": 1,
   "id": "d28e3bb8-7591-4ab3-a4cc-46d6cb9be529",
   "metadata": {},
   "outputs": [
    {
     "name": "stdout",
     "output_type": "stream",
     "text": [
      "Car: Max Speed - 200 km/h, Average Speed - 80 km/h\n",
      "Bike: Max Speed - 150 km/h, Average Speed - 60 km/h\n"
     ]
    }
   ],
   "source": [
    "class Vehicle:\n",
    "    def __init__(self, name, max_speed, average_speed):\n",
    "        self.name_of_vehicle = name\n",
    "        self.max_speed = max_speed\n",
    "        self.average_of_vehicle = average_speed\n",
    "\n",
    "# Creating instances of the Vehicle class\n",
    "car = Vehicle(\"Car\", 200, 80)\n",
    "bike = Vehicle(\"Bike\", 150, 60)\n",
    "\n",
    "# Accessing instance variables\n",
    "print(f\"{car.name_of_vehicle}: Max Speed - {car.max_speed} km/h, Average Speed - {car.average_of_vehicle} km/h\")\n",
    "print(f\"{bike.name_of_vehicle}: Max Speed - {bike.max_speed} km/h, Average Speed - {bike.average_of_vehicle} km/h\")\n"
   ]
  },
  {
   "cell_type": "markdown",
   "id": "fa61666e-1f97-4d9e-977a-446f37f1dbce",
   "metadata": {},
   "source": [
    "Q.2"
   ]
  },
  {
   "cell_type": "code",
   "execution_count": 2,
   "id": "93d1946d-1120-4fed-bc95-2f5bd8f3c9c8",
   "metadata": {},
   "outputs": [
    {
     "name": "stdout",
     "output_type": "stream",
     "text": [
      "Car has a seating capacity of 5 people.\n"
     ]
    }
   ],
   "source": [
    "class Vehicle:\n",
    "    def __init__(self, name, max_speed, average_speed):\n",
    "        self.name_of_vehicle = name\n",
    "        self.max_speed = max_speed\n",
    "        self.average_of_vehicle = average_speed\n",
    "\n",
    "class Car(Vehicle):\n",
    "    def seating_capacity(self, capacity):\n",
    "        return f\"{self.name_of_vehicle} has a seating capacity of {capacity} people.\"\n",
    "\n",
    "# Creating an instance of the Car class\n",
    "car = Car(\"Car\", 200, 80)\n",
    "\n",
    "# Using the seating_capacity method\n",
    "capacity = 5\n",
    "print(car.seating_capacity(capacity))\n"
   ]
  },
  {
   "cell_type": "markdown",
   "id": "9e71766c-ee61-45fe-85be-096434369423",
   "metadata": {},
   "source": [
    "q.3"
   ]
  },
  {
   "cell_type": "markdown",
   "id": "3bf2a234-79fb-4a46-b151-9b8ccab335e0",
   "metadata": {},
   "source": [
    "\n",
    "Multiple Inheritance is a feature in object-oriented programming where a class can inherit attributes and methods from more than one parent class. This allows a subclass to combine the features of multiple parent classes.\n",
    "\n",
    "Here's an example of multiple inheritance"
   ]
  },
  {
   "cell_type": "code",
   "execution_count": 3,
   "id": "8f635716-37aa-4ba4-9eda-ee8a37fc956b",
   "metadata": {},
   "outputs": [
    {
     "name": "stdout",
     "output_type": "stream",
     "text": [
      "Hello, son.\n"
     ]
    }
   ],
   "source": [
    "class Father:\n",
    "    def speak(self):\n",
    "        return \"Hello, son.\"\n",
    "\n",
    "class Mother:\n",
    "    def speak(self):\n",
    "        return \"Hi, dear.\"\n",
    "\n",
    "class Child(Father, Mother):\n",
    "    pass\n",
    "\n",
    "# Creating an instance of the Child class\n",
    "child = Child()\n",
    "\n",
    "# Calling the speak method\n",
    "print(child.speak())  # Output will depend on the order of inheritance\n"
   ]
  },
  {
   "cell_type": "markdown",
   "id": "0a3f128b-bba4-4cad-a1b7-acdb2a1c1d99",
   "metadata": {},
   "source": [
    "Q.4 \n",
    "\n",
    "getters and setters are methods used to access and modify the attributes of a class in a controlled manner. They allow you to encapsulate the access and modification of attributes, providing additional control over how data is managed within the class.\n",
    "\n",
    "Getter Method: A getter method is used to retrieve the value of an attribute. It provides controlled access to the attribute's value.\n",
    "\n",
    "Setter Method: A setter method is used to modify the value of an attribute. It provides controlled modification of the attribute's value, often with additional validation or processing."
   ]
  },
  {
   "cell_type": "code",
   "execution_count": 4,
   "id": "470efa6b-2d06-4bcd-b1a3-620ca306a60c",
   "metadata": {},
   "outputs": [
    {
     "name": "stdout",
     "output_type": "stream",
     "text": [
      "Alice 20\n",
      "Bob 25\n"
     ]
    }
   ],
   "source": [
    "class Student:\n",
    "    def __init__(self, name, age):\n",
    "        self._name = name\n",
    "        self._age = age\n",
    "\n",
    "    def get_name(self):\n",
    "        return self._name\n",
    "\n",
    "    def set_name(self, name):\n",
    "        self._name = name\n",
    "\n",
    "    def get_age(self):\n",
    "        return self._age\n",
    "\n",
    "    def set_age(self, age):\n",
    "        if age >= 0:\n",
    "            self._age = age\n",
    "\n",
    "student = Student(\"Alice\", 20)\n",
    "\n",
    "print(student.get_name(), student.get_age())\n",
    "\n",
    "student.set_name(\"Bob\")\n",
    "student.set_age(25)\n",
    "\n",
    "print(student.get_name(), student.get_age())\n"
   ]
  },
  {
   "cell_type": "code",
   "execution_count": null,
   "id": "0bc5acc2-478c-4724-92f7-eb9fe0777dee",
   "metadata": {},
   "outputs": [],
   "source": []
  }
 ],
 "metadata": {
  "kernelspec": {
   "display_name": "Python 3 (ipykernel)",
   "language": "python",
   "name": "python3"
  },
  "language_info": {
   "codemirror_mode": {
    "name": "ipython",
    "version": 3
   },
   "file_extension": ".py",
   "mimetype": "text/x-python",
   "name": "python",
   "nbconvert_exporter": "python",
   "pygments_lexer": "ipython3",
   "version": "3.10.8"
  }
 },
 "nbformat": 4,
 "nbformat_minor": 5
}
