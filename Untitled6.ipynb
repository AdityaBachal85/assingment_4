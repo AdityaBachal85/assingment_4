{
 "cells": [
  {
   "cell_type": "markdown",
   "id": "bf927f4d-9324-4f43-8fcd-2c106dfe983c",
   "metadata": {},
   "source": [
    "Q1. What is multiprocessing in python? Why is it useful?"
   ]
  },
  {
   "cell_type": "raw",
   "id": "9865e0df-23f3-48db-87e6-e43f4c6dd41a",
   "metadata": {},
   "source": [
    "Multiprocessing in Python means running multiple processes simultaneously to execute tasks faster, especially useful for CPU-bound operations. It allows programs to utilize multiple CPU cores, enhancing performance by executing tasks in parallel. Each process has its own memory space, offering isolation and better fault tolerance compared to multithreading."
   ]
  },
  {
   "cell_type": "markdown",
   "id": "fe077095-8288-4fde-a43f-8d5a924bf976",
   "metadata": {},
   "source": [
    "Q2. What are the differences between multiprocessing and multithreading?"
   ]
  },
  {
   "cell_type": "raw",
   "id": "63fd967d-644c-46ce-93f0-3b14bea22b56",
   "metadata": {},
   "source": [
    "### Multiprocessing:\n",
    "\n",
    "- Involves multiple processes, each with its own memory.\n",
    "- Processes are isolated and have separate resources.\n",
    "- Suitable for CPU-bound tasks, offers true parallelism.\n",
    "\n",
    "### Multithreading:\n",
    "\n",
    "- Involves multiple threads within a single process, sharing memory.\n",
    "- Threads share resources and communicate more easily.\n",
    "- Suited for I/O-bound tasks, offers concurrency but limited parallelism due to the GIL."
   ]
  },
  {
   "cell_type": "markdown",
   "id": "1f99bd59-384f-40c2-9e6b-ae1d4d65bfda",
   "metadata": {},
   "source": [
    "Q3. Write a python code to create a process using the multiprocessing module."
   ]
  },
  {
   "cell_type": "code",
   "execution_count": 1,
   "id": "a205b9a0-0ed9-4c33-a1a6-6635f14ecb39",
   "metadata": {},
   "outputs": [
    {
     "name": "stdout",
     "output_type": "stream",
     "text": [
      "Child process ID: 1087\n",
      "Main process ID: 938 - Process finished\n"
     ]
    }
   ],
   "source": [
    "import multiprocessing\n",
    "import os\n",
    "\n",
    "def process_function():\n",
    "    print(f\"Child process ID: {os.getpid()}\")\n",
    "\n",
    "if __name__ == \"__main__\":\n",
    "    # Create a process\n",
    "    process = multiprocessing.Process(target=process_function)\n",
    "\n",
    "    # Start the process\n",
    "    process.start()\n",
    "\n",
    "    # Wait for the process to finish\n",
    "    process.join()\n",
    "\n",
    "    print(f\"Main process ID: {os.getpid()} - Process finished\")\n"
   ]
  },
  {
   "cell_type": "markdown",
   "id": "2becbdb6-9616-4c93-a20c-81d6ecca2385",
   "metadata": {},
   "source": [
    "Q4. What is a multiprocessing pool in python? Why is it used?"
   ]
  },
  {
   "cell_type": "raw",
   "id": "58f00fb3-31c1-44b5-80db-69fce451cf24",
   "metadata": {},
   "source": [
    "A multiprocessing pool in Python is a mechanism provided by the `multiprocessing` module to manage a pool of worker processes. It's primarily used to distribute and parallelize the execution of tasks across multiple processes efficiently.\n",
    "\n",
    "### Purpose and Use:\n",
    "\n",
    "1. **Parallel Execution:** A pool allows distributing tasks across multiple processes, making it useful for executing tasks concurrently, especially when dealing with CPU-bound operations.\n",
    "\n",
    "2. **Efficient Resource Utilization:** It manages a pool of worker processes, enabling the reuse of processes for multiple tasks. This reduces the overhead of creating and destroying processes repeatedly.\n",
    "\n",
    "3. **Simplified Interface:** It provides a high-level interface (`Pool`) that abstracts the complexity of managing multiple processes, making it easier to distribute tasks and collect results.\n",
    "\n",
    "4. **Scalability:** The pool can dynamically allocate tasks to available processes, making it well-suited for systems with multiple CPU cores, scaling the workload efficiently.\n",
    "\n",
    "5. **Load Balancing:** It automatically distributes tasks across available processes, balancing the workload among the worker processes in the pool.\n",
    "\n"
   ]
  }
 ],
 "metadata": {
  "kernelspec": {
   "display_name": "Python 3 (ipykernel)",
   "language": "python",
   "name": "python3"
  },
  "language_info": {
   "codemirror_mode": {
    "name": "ipython",
    "version": 3
   },
   "file_extension": ".py",
   "mimetype": "text/x-python",
   "name": "python",
   "nbconvert_exporter": "python",
   "pygments_lexer": "ipython3",
   "version": "3.10.8"
  }
 },
 "nbformat": 4,
 "nbformat_minor": 5
}
