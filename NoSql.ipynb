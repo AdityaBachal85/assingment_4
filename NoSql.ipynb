{
 "cells": [
  {
   "cell_type": "code",
   "execution_count": null,
   "metadata": {},
   "outputs": [],
   "source": []
  },
  {
   "cell_type": "code",
   "execution_count": null,
   "metadata": {},
   "outputs": [],
   "source": []
  },
  {
   "cell_type": "markdown",
   "metadata": {},
   "source": [
    "\n",
    "\n",
    "''' \n",
    "Q1. What is MongoDB? Explain non-relational databases in short. In which scenarios it is preferred to use MongoDB over SQL databases?\n",
    "\n",
    "MongoDB: MongoDB is a popular open-source NoSQL database that stores data in flexible, JSON-like documents. \n",
    "It offers high scalability and performance, making it suitable for applications with rapidly changing data requirements, such as social media, real-time analytics, and content management systems.\n",
    "\n",
    "Non-relational databases: Non-relational databases, also known as NoSQL databases, are designed to handle large volumes of unstructured or semi-structured data. \n",
    "Unlike SQL databases, they don't rely on fixed schemas, allowing for more flexibility and scalability. \n",
    "\n",
    "Scenarios for using MongoDB over SQL databases:\n",
    "\n",
    "Flexible Schema: When the data structure is dynamic and subject to frequent changes.\n",
    "Scalability: MongoDB's distributed architecture makes it suitable for scaling horizontally across multiple servers.\n",
    "Big Data and Real-time Analytics: In scenarios where real-time data processing and analysis are crucial.\n",
    "Document-oriented Storage: For applications that deal with JSON-like data structures or nested arrays/documents.\n",
    "'''\n",
    "\n"
   ]
  },
  {
   "cell_type": "markdown",
   "metadata": {},
   "source": [
    "Q2. State and Explain the features of MongoDB.\n",
    "\n",
    "Features of MongoDB:\n",
    "\n",
    "Document-Oriented: Stores data in flexible JSON-like documents.\n",
    "\n",
    "Scalable: Supports horizontal scaling by sharding data across multiple servers.\n",
    "\n",
    "High Performance: Offers high throughput and low latency for read and write operations.\n",
    "\n",
    "Rich Query Language: Supports a wide range of queries including field, range, and regular expression queries.\n",
    "\n",
    "Indexes: Allows for efficient querying by creating indexes on fields.\n",
    "\n",
    "Aggregation Framework: Provides tools for performing data aggregation operations.\n",
    "\n",
    "Flexible Schema: Supports dynamic schema design, enabling easier data modeling and evolution.\n",
    "\n",
    "Replication and High Availability: Supports automatic failover and data redundancy through replica sets.\n",
    "Geospatial Indexes: Enables querying of geospatial data.\n",
    "\n",
    "Ad Hoc Queries: Allows for ad hoc queries without requiring predefined schemas.\n",
    "\n",
    "GridFS: A specification for storing large files in MongoDB. \n",
    "'''\n"
   ]
  },
  {
   "cell_type": "code",
   "execution_count": null,
   "metadata": {},
   "outputs": [],
   "source": []
  },
  {
   "cell_type": "markdown",
   "metadata": {},
   "source": [
    "Q3. Write a code to connect MongoDB to Python. Also, create a database and a collection in MongoDB\n"
   ]
  },
  {
   "cell_type": "code",
   "execution_count": 1,
   "metadata": {},
   "outputs": [],
   "source": [
    "import pymongo\n",
    "\n",
    "# Connect to MongoDB server\n",
    "client = pymongo.MongoClient(\"mongodb://localhost:27017/\")\n",
    "\n",
    "# Create a database\n",
    "mydb = client[\"mydatabase\"]\n",
    "\n",
    "# Create a collection\n",
    "mycol = mydb[\"customers\"]"
   ]
  },
  {
   "cell_type": "markdown",
   "metadata": {},
   "source": [
    "Q4. Using the database and the collection created in question number 3,\n",
    "write a code to insert one record, and insert many records. \n",
    "Use the find() and find_one() methods to print the inserted record\n",
    "'''"
   ]
  },
  {
   "cell_type": "code",
   "execution_count": 2,
   "metadata": {},
   "outputs": [
    {
     "name": "stdout",
     "output_type": "stream",
     "text": [
      "{'_id': ObjectId('65c3158ce2ce5b9f77fc8f60'), 'name': 'John', 'address': 'Highway 37'}\n",
      "{'_id': ObjectId('65c3158ce2ce5b9f77fc8f60'), 'name': 'John', 'address': 'Highway 37'}\n",
      "{'_id': ObjectId('65c3158ce2ce5b9f77fc8f61'), 'name': 'Peter', 'address': 'Lowstreet 27'}\n",
      "{'_id': ObjectId('65c3158ce2ce5b9f77fc8f62'), 'name': 'Amy', 'address': 'Apple st 652'}\n",
      "{'_id': ObjectId('65c3158ce2ce5b9f77fc8f63'), 'name': 'Hannah', 'address': 'Mountain 21'}\n",
      "{'_id': ObjectId('65c3158ce2ce5b9f77fc8f64'), 'name': 'Michael', 'address': 'Valley 345'}\n"
     ]
    }
   ],
   "source": [
    "# Insert one record\n",
    "record = {\"name\": \"John\", \"address\": \"Highway 37\"}\n",
    "mycol.insert_one(record)\n",
    "\n",
    "# Insert many records\n",
    "records = [\n",
    "    {\"name\": \"Peter\", \"address\": \"Lowstreet 27\"},\n",
    "    {\"name\": \"Amy\", \"address\": \"Apple st 652\"},\n",
    "    {\"name\": \"Hannah\", \"address\": \"Mountain 21\"},\n",
    "    {\"name\": \"Michael\", \"address\": \"Valley 345\"}\n",
    "]\n",
    "mycol.insert_many(records)\n",
    "\n",
    "# Find one record\n",
    "print(mycol.find_one())\n",
    "\n",
    "# Find all records\n",
    "for record in mycol.find():\n",
    "    print(record)"
   ]
  },
  {
   "cell_type": "markdown",
   "metadata": {},
   "source": [
    "Q5. Explain how you can use the find() method to query the MongoDB database. Write a simple code to demonstrate this.\n",
    "\n",
    "The find() method in MongoDB is used to query documents in a collection. \n",
    "It returns a cursor object that can be iterated over to retrieve documents."
   ]
  },
  {
   "cell_type": "code",
   "execution_count": 3,
   "metadata": {},
   "outputs": [
    {
     "name": "stdout",
     "output_type": "stream",
     "text": [
      "{'_id': ObjectId('65c3158ce2ce5b9f77fc8f60'), 'name': 'John', 'address': 'Highway 37'}\n"
     ]
    }
   ],
   "source": [
    "# Query documents\n",
    "for document in mycol.find({\"name\": \"John\"}):\n",
    "    print(document)"
   ]
  },
  {
   "cell_type": "markdown",
   "metadata": {},
   "source": [
    "'''\n",
    "Q6. Explain the sort() method. Give an example to demonstrate sorting in MongoDB.\n",
    "\n",
    "The sort() method in MongoDB is used to sort the results of a query based on one or more fields."
   ]
  },
  {
   "cell_type": "code",
   "execution_count": 4,
   "metadata": {},
   "outputs": [
    {
     "name": "stdout",
     "output_type": "stream",
     "text": [
      "{'_id': ObjectId('65c3158ce2ce5b9f77fc8f62'), 'name': 'Amy', 'address': 'Apple st 652'}\n",
      "{'_id': ObjectId('65c3158ce2ce5b9f77fc8f63'), 'name': 'Hannah', 'address': 'Mountain 21'}\n",
      "{'_id': ObjectId('65c3158ce2ce5b9f77fc8f60'), 'name': 'John', 'address': 'Highway 37'}\n",
      "{'_id': ObjectId('65c3158ce2ce5b9f77fc8f64'), 'name': 'Michael', 'address': 'Valley 345'}\n",
      "{'_id': ObjectId('65c3158ce2ce5b9f77fc8f61'), 'name': 'Peter', 'address': 'Lowstreet 27'}\n",
      "{'_id': ObjectId('65c3158ce2ce5b9f77fc8f61'), 'name': 'Peter', 'address': 'Lowstreet 27'}\n",
      "{'_id': ObjectId('65c3158ce2ce5b9f77fc8f64'), 'name': 'Michael', 'address': 'Valley 345'}\n",
      "{'_id': ObjectId('65c3158ce2ce5b9f77fc8f60'), 'name': 'John', 'address': 'Highway 37'}\n",
      "{'_id': ObjectId('65c3158ce2ce5b9f77fc8f63'), 'name': 'Hannah', 'address': 'Mountain 21'}\n",
      "{'_id': ObjectId('65c3158ce2ce5b9f77fc8f62'), 'name': 'Amy', 'address': 'Apple st 652'}\n"
     ]
    }
   ],
   "source": [
    "# Sort documents by name in ascending order\n",
    "for document in mycol.find().sort(\"name\"):\n",
    "    print(document)\n",
    "\n",
    "# Sort documents by name in descending order\n",
    "for document in mycol.find().sort(\"name\", -1):\n",
    "    print(document)\n"
   ]
  },
  {
   "cell_type": "markdown",
   "metadata": {},
   "source": [
    "Q7. Explain why delete_one(), delete_many(), and drop() are used.\n",
    "\n",
    "delete_one(): Deletes a single document that matches the specified criteria.\n",
    "delete_many(): Deletes all documents that match the specified criteria.\n",
    "drop(): Deletes an entire collection from the database.\n",
    "These methods are used to remove data from MongoDB collections. \n",
    "delete_one() and delete_many() are used to remove specific documents based on certain conditions, \n",
    "while drop() is used to remove an entire collection.\n",
    "'''\n"
   ]
  },
  {
   "cell_type": "code",
   "execution_count": null,
   "metadata": {},
   "outputs": [],
   "source": []
  }
 ],
 "metadata": {
  "kernelspec": {
   "display_name": "Python 3.8.10 64-bit",
   "language": "python",
   "name": "python3"
  },
  "language_info": {
   "codemirror_mode": {
    "name": "ipython",
    "version": 3
   },
   "file_extension": ".py",
   "mimetype": "text/x-python",
   "name": "python",
   "nbconvert_exporter": "python",
   "pygments_lexer": "ipython3",
   "version": "3.8.10"
  },
  "orig_nbformat": 4,
  "vscode": {
   "interpreter": {
    "hash": "e7370f93d1d0cde622a1f8e1c04877d8463912d04d973331ad4851f04de6915a"
   }
  }
 },
 "nbformat": 4,
 "nbformat_minor": 2
}
